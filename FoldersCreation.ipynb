{
 "cells": [
  {
   "cell_type": "markdown",
   "id": "72e39444-415a-4465-b557-8e5f12f5237b",
   "metadata": {},
   "source": [
    "# Creating Folders to store The  Traning and testing Data "
   ]
  },
  {
   "cell_type": "code",
   "execution_count": 1,
   "id": "319d888f-4630-493e-b285-b732242b9568",
   "metadata": {},
   "outputs": [],
   "source": [
    "# Note ----> if you want create   folder inside project folder then youse this method but i used in outside project \n",
    "#so in other pages i give diffrent path."
   ]
  },
  {
   "cell_type": "code",
   "execution_count": 2,
   "id": "cf69a4ea-7460-435e-a83f-b1e6ada80269",
   "metadata": {},
   "outputs": [],
   "source": [
    "import os\n",
    "import string"
   ]
  },
  {
   "cell_type": "markdown",
   "id": "fc731608-d9b4-4f67-8f16-a72e12f3bcc1",
   "metadata": {},
   "source": [
    "# Creating the directory Structure"
   ]
  },
  {
   "cell_type": "code",
   "execution_count": 3,
   "id": "9f626769-d315-4788-8af1-d8eab047464a",
   "metadata": {},
   "outputs": [],
   "source": [
    "# Creating the directory Structure\n",
    "#creat a folder with name dataset\n",
    "if not os.path.exists(\"dataSet\"):\n",
    "    os.makedirs(\"dataSet\")\n",
    "\n",
    "#creat an folder inside  dataset with nanme trainingData\n",
    "if not os.path.exists(\"dataSet/trainingData\"):\n",
    "    os.makedirs(\"dataSet/trainingData\")\n",
    "#creat an folder inside  dataset with nanme testingData\n",
    "if not os.path.exists(\"dataSet/testingData\"):\n",
    "    os.makedirs(\"dataSet/testingData\")"
   ]
  },
  {
   "cell_type": "markdown",
   "id": "b9240aa4-3220-45e8-bceb-8b1bbd8e9a8a",
   "metadata": {},
   "source": [
    "# Create folder  with name 0 (i.e blank) in the training and testing data folders "
   ]
  },
  {
   "cell_type": "code",
   "execution_count": 4,
   "id": "cfa77256-d183-4ff2-9a59-fe962ed335c7",
   "metadata": {},
   "outputs": [],
   "source": [
    "# Making folder  0 (i.e blank) in the training and testing data folders respectively\n",
    "for i in range(0):\n",
    "    if not os.path.exists(\"dataSet/trainingData/\" + str(i)):\n",
    "        os.makedirs(\"dataSet/trainingData/\" + str(i))\n",
    "\n",
    "    if not os.path.exists(\"dataSet/testingData/\" + str(i)):\n",
    "        os.makedirs(\"dataSet/testingData/\" + str(i))"
   ]
  },
  {
   "cell_type": "markdown",
   "id": "4ab0078a-7803-4030-b32a-a24a27608dec",
   "metadata": {},
   "source": [
    "# Making Folders from A to Z in the training and testing data folders \n"
   ]
  },
  {
   "cell_type": "code",
   "execution_count": 5,
   "id": "fe89950f-be2e-4b17-899c-00956400b90f",
   "metadata": {},
   "outputs": [],
   "source": [
    "for i in string.ascii_uppercase:\n",
    "    if not os.path.exists(\"dataSet/trainingData/\" + i):\n",
    "        os.makedirs(\"dataSet/trainingData/\" + i)\n",
    "    \n",
    "    if not os.path.exists(\"dataSet/testingData/\" + i):\n",
    "        os.makedirs(\"dataSet/testingData/\" + i)\n"
   ]
  }
 ],
 "metadata": {
  "kernelspec": {
   "display_name": "Python 3 (ipykernel)",
   "language": "python",
   "name": "python3"
  },
  "language_info": {
   "codemirror_mode": {
    "name": "ipython",
    "version": 3
   },
   "file_extension": ".py",
   "mimetype": "text/x-python",
   "name": "python",
   "nbconvert_exporter": "python",
   "pygments_lexer": "ipython3",
   "version": "3.12.4"
  }
 },
 "nbformat": 4,
 "nbformat_minor": 5
}
